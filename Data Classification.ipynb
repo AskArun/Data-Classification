{
 "cells": [
  {
   "cell_type": "markdown",
   "id": "738c27ef",
   "metadata": {},
   "source": [
    "# Data Classication Coursework - 18016995:"
   ]
  },
  {
   "cell_type": "code",
   "execution_count": 1,
   "id": "008446a5",
   "metadata": {},
   "outputs": [],
   "source": [
    "import pandas as pd\n",
    "import numpy as np\n",
    "import matplotlib.pyplot as plt\n",
    "from sklearn.preprocessing import StandardScaler\n",
    "from sklearn.decomposition import PCA\n",
    "from sklearn.model_selection import train_test_split\n",
    "from sklearn.svm import SVC\n",
    "from sklearn import metrics\n",
    "from sklearn.metrics import classification_report\n",
    "from sklearn.metrics import confusion_matrix"
   ]
  },
  {
   "cell_type": "markdown",
   "id": "e4eec3e7",
   "metadata": {},
   "source": [
    "## Task 1 - Data Exploration:"
   ]
  },
  {
   "cell_type": "markdown",
   "id": "248e67d1",
   "metadata": {},
   "source": [
    "### Task 1a: "
   ]
  },
  {
   "cell_type": "code",
   "execution_count": null,
   "id": "4b1a2e46",
   "metadata": {},
   "outputs": [],
   "source": [
    "Training = pd.read_csv(\"yeast_train.csv\")\n",
    "Testing = pd.read_csv(\"yeast_test.csv\")"
   ]
  },
  {
   "cell_type": "markdown",
   "id": "0722f083",
   "metadata": {},
   "source": [
    "### Task 1b:"
   ]
  },
  {
   "cell_type": "code",
   "execution_count": null,
   "id": "b4eb9880",
   "metadata": {},
   "outputs": [],
   "source": [
    "Labels_Train = Training.iloc[:,-1]\n",
    "Labels_Test = Testing.iloc[:,-1]"
   ]
  },
  {
   "cell_type": "code",
   "execution_count": null,
   "id": "24fc4b04",
   "metadata": {},
   "outputs": [],
   "source": [
    "x_training = Training['F1']\n",
    "y_training = Training['F2']\n",
    "\n",
    "x_testing = Testing['F1']\n",
    "y_testing = Testing['F2']\n",
    "\n",
    "fig, ax = plt.subplots(1,2,figsize=(12,6))\n",
    "\n",
    "ax[0].scatter(x_training,y_training, c=Labels_Train, edgecolor='none', alpha=0.5)\n",
    "ax[1].scatter(x_testing,y_testing, c=Labels_Test, edgecolor='none', alpha=0.5)\n",
    "\n",
    "ax[0].set_title('Scatter plot of Training Set')\n",
    "\n",
    "ax[0].set_xlabel(\"Feature F1\")\n",
    "ax[0].set_ylabel(\"Feature F2\")\n",
    "\n",
    "ax[1].set_title('Scatter plot of Test Set')\n",
    "\n",
    "ax[1].set_xlabel(\"Feature F1\")\n",
    "ax[1].set_ylabel(\"Feature F2\")\n",
    "\n",
    "fig.tight_layout()\n",
    "\n",
    "fig.savefig('Scatter_Plots.png');"
   ]
  },
  {
   "cell_type": "markdown",
   "id": "d1a5c627",
   "metadata": {},
   "source": [
    "### Task 1c:"
   ]
  },
  {
   "cell_type": "code",
   "execution_count": null,
   "id": "5bb15ead",
   "metadata": {},
   "outputs": [],
   "source": [
    "Train_Inputs = Training.iloc[:, 1:9]\n",
    "Test_Inputs = Testing.iloc[:, 1:9]\n",
    "\n",
    "stats = StandardScaler().fit(Train_Inputs)\n",
    "train_ = stats.transform(Train_Inputs)\n",
    "test_ = stats.transform(Test_Inputs)"
   ]
  },
  {
   "cell_type": "markdown",
   "id": "79a5a300",
   "metadata": {},
   "source": [
    "### Task 1d:"
   ]
  },
  {
   "cell_type": "code",
   "execution_count": null,
   "id": "37df1897",
   "metadata": {},
   "outputs": [],
   "source": [
    "pca = PCA()\n",
    "figure = plt.figure()\n",
    "axs = plt.gca()\n",
    "\n",
    "eigen_val = pca.fit(train_)\n",
    "proj_yeast_train = eigen_val.transform(train_)\n",
    "\n",
    "plt.plot(pca.explained_variance_, color='red', linestyle='dotted')\n",
    "\n",
    "axs.set_title(\"Scree plot\")\n",
    "axs.set_xlabel(\"Index of principal components\")\n",
    "axs.set_ylabel(\"The explained variance\")\n",
    "\n",
    "figure.savefig('Explained_Variance_Scree_Plot.png');"
   ]
  },
  {
   "cell_type": "code",
   "execution_count": null,
   "id": "2d678d6f",
   "metadata": {},
   "outputs": [],
   "source": [
    "print(np.round(pca.explained_variance_,2))\n",
    "print(np.round(pca.explained_variance_ratio_,2))"
   ]
  },
  {
   "cell_type": "markdown",
   "id": "ac9a1863",
   "metadata": {},
   "source": [
    "### Task 1e:"
   ]
  },
  {
   "cell_type": "code",
   "execution_count": null,
   "id": "9cac3807",
   "metadata": {},
   "outputs": [],
   "source": [
    "fig, axis = plt.subplots(1,2,figsize=(12,6))\n",
    "\n",
    "axis[0].scatter(proj_yeast_train[:,0],proj_yeast_train[:,1], c=Labels_Train, edgecolor='none', alpha=0.5)\n",
    "\n",
    "axis[0].set_title(\"Scree Plot of PC1 and PC2\")\n",
    "axis[0].set_xlabel(\"PC1\")\n",
    "axis[0].set_ylabel(\"PC2\")\n",
    "\n",
    "axis[1].scatter(proj_yeast_train[:,1],proj_yeast_train[:,2], c=Labels_Train, edgecolor='none', alpha=0.5)\n",
    "\n",
    "axis[1].set_title(\"Scree Plot of PC2 and PC3\")\n",
    "axis[1].set_xlabel(\"PC2\")\n",
    "axis[1].set_ylabel(\"PC3\")\n",
    "\n",
    "figs.savefig('Scree_Plots.png');"
   ]
  },
  {
   "cell_type": "markdown",
   "id": "fadeb8b7",
   "metadata": {},
   "source": [
    "## Task 2 - Spliting the Data"
   ]
  },
  {
   "cell_type": "markdown",
   "id": "11fe15a1",
   "metadata": {},
   "source": [
    "### Task 2a:"
   ]
  },
  {
   "cell_type": "code",
   "execution_count": null,
   "id": "9d61e475",
   "metadata": {},
   "outputs": [],
   "source": [
    "Train_Split, Validation_Split, TLabel_Split,  VLabel_Split = train_test_split(Training,Labels_Train, test_size=0.30)"
   ]
  },
  {
   "cell_type": "markdown",
   "id": "966cecf3",
   "metadata": {},
   "source": [
    "### Task 2b:"
   ]
  },
  {
   "cell_type": "code",
   "execution_count": null,
   "id": "80af1acd",
   "metadata": {},
   "outputs": [],
   "source": [
    "Train_Input = Train_Split.iloc[:, 1:9]\n",
    "Validation_Input = Validation_Split.iloc[:, 1:9]\n",
    "\n",
    "stats = StandardScaler().fit(Train_Input)\n",
    "_train = stats.transform(Train_Input)\n",
    "_validation = stats.transform(Validation_Input)"
   ]
  },
  {
   "cell_type": "markdown",
   "id": "5451beae",
   "metadata": {},
   "source": [
    "## Task 3 - Non-Linear Classification:"
   ]
  },
  {
   "cell_type": "markdown",
   "id": "b61014ad",
   "metadata": {},
   "source": [
    "### Task 3a)i:"
   ]
  },
  {
   "cell_type": "code",
   "execution_count": null,
   "id": "8c66ed10",
   "metadata": {},
   "outputs": [],
   "source": [
    "svc1 = SVC(kernel='rbf', class_weight='balanced', C=10, gamma=0.1)\n",
    "model1 = svc1.fit(_train, TLabel_Split)\n",
    "\n",
    "vyfit1 = model1.predict(_validation)\n",
    "\n",
    "print('Accuracy:', metrics.accuracy_score(VLabel_Split, vyfit1))\n",
    "\n",
    "print(classification_report(VLabel_Split, vyfit1))"
   ]
  },
  {
   "cell_type": "code",
   "execution_count": null,
   "id": "196c519c",
   "metadata": {},
   "outputs": [],
   "source": [
    "svc2 = SVC(kernel='rbf', class_weight='balanced', C=50, gamma=0.1)\n",
    "model2 = svc2.fit(_train, TLabel_Split)\n",
    "\n",
    "vyfit2 = model2.predict(_validation)\n",
    "\n",
    "print('Accuracy:', metrics.accuracy_score(VLabel_Split, vyfit2))\n",
    "\n",
    "print(classification_report(VLabel_Split, vyfit2))"
   ]
  },
  {
   "cell_type": "code",
   "execution_count": null,
   "id": "435167b5",
   "metadata": {},
   "outputs": [],
   "source": [
    "svc3 = SVC(kernel='rbf', class_weight='balanced', C=100, gamma=0.1)\n",
    "model3 = svc3.fit(_train, TLabel_Split)\n",
    "\n",
    "vyfit3 = model3.predict(_validation)\n",
    "\n",
    "print('Accuracy:', metrics.accuracy_score(VLabel_Split, vyfit3))\n",
    "\n",
    "print(classification_report(VLabel_Split, vyfit3))"
   ]
  },
  {
   "cell_type": "code",
   "execution_count": null,
   "id": "a5a101eb",
   "metadata": {},
   "outputs": [],
   "source": [
    "svc4 = SVC(kernel='rbf', class_weight='balanced', C=10, gamma=0.01)\n",
    "model4 = svc4.fit(_train, TLabel_Split)\n",
    "\n",
    "vyfit4 = model4.predict(_validation)\n",
    "\n",
    "print('Accuracy:', metrics.accuracy_score(VLabel_Split, vyfit4))\n",
    "\n",
    "print(classification_report(VLabel_Split, vyfit4))"
   ]
  },
  {
   "cell_type": "markdown",
   "id": "3ef7edb8",
   "metadata": {},
   "source": [
    "### Task 3a)ii:"
   ]
  },
  {
   "cell_type": "code",
   "execution_count": null,
   "id": "91c5c09a",
   "metadata": {},
   "outputs": [],
   "source": [
    "svc5 = SVC(kernel='rbf', class_weight='balanced', C=100, gamma=0.1)\n",
    "model5 = svc5.fit(train_, Labels_Train)\n",
    "\n",
    "vyfit5 = model5.predict(test_)"
   ]
  },
  {
   "cell_type": "markdown",
   "id": "9875e588",
   "metadata": {},
   "source": [
    "#### Task 3a)ii)a: Accuracy Rate:"
   ]
  },
  {
   "cell_type": "code",
   "execution_count": null,
   "id": "000d7232",
   "metadata": {},
   "outputs": [],
   "source": [
    "print('Accuracy:', metrics.accuracy_score(Labels_Test, vyfit5))\n",
    "\n",
    "print(classification_report(Labels_Test, vyfit5))"
   ]
  },
  {
   "cell_type": "markdown",
   "id": "48bf6af3",
   "metadata": {},
   "source": [
    "#### Task 3a)ii)b: Confusion Matrix:"
   ]
  },
  {
   "cell_type": "code",
   "execution_count": null,
   "id": "219e9cc0",
   "metadata": {},
   "outputs": [],
   "source": [
    "import seaborn as sns; sns.set();\n",
    "mat = confusion_matrix(Labels_Test, vyfit5)\n",
    "print(mat)\n",
    "HeatMap = sns.heatmap(mat, square=True, cbar=False, annot=True)\n",
    "plt.xlabel('true label')\n",
    "plt.ylabel('predicted label');\n",
    "\n",
    "Hmap = HeatMap.get_figure()\n",
    "Hmap.savefig('Heat_Map.png');"
   ]
  },
  {
   "cell_type": "markdown",
   "id": "a92a4445",
   "metadata": {},
   "source": [
    "### Task 3b)i:"
   ]
  },
  {
   "cell_type": "code",
   "execution_count": null,
   "id": "bf8d3398",
   "metadata": {},
   "outputs": [],
   "source": [
    "pca_svm = PCA(n_components=5)\n",
    "\n",
    "eigen_val_svm = pca_svm.fit(train_)\n",
    "proj_train = eigen_val_svm.transform(train_)\n",
    "proj_test = eigen_val_svm.transform(test_)\n",
    "\n",
    "print(np.round(pca_svm.explained_variance_,2))\n",
    "print(np.round(pca_svm.explained_variance_ratio_,2))"
   ]
  },
  {
   "cell_type": "code",
   "execution_count": null,
   "id": "9df674dd",
   "metadata": {},
   "outputs": [],
   "source": [
    "RStats = StandardScaler().fit(proj_train)\n",
    "\n",
    "_rtrain = RStats.transform(proj_train)\n",
    "_rtest = RStats.transform(proj_test)"
   ]
  },
  {
   "cell_type": "markdown",
   "id": "bbf1e11f",
   "metadata": {},
   "source": [
    "### Task 3b)ii:"
   ]
  },
  {
   "cell_type": "code",
   "execution_count": null,
   "id": "c64d8369",
   "metadata": {},
   "outputs": [],
   "source": [
    "svc6 = SVC(kernel='rbf', class_weight='balanced', C=10, gamma=0.01)\n",
    "model6 = svc6.fit(_rtrain,Labels_Train)\n",
    "\n",
    "vyfit6 = model6.predict(_rtest)\n",
    " \n",
    "print('Accuracy:', metrics.accuracy_score(Labels_Test, vyfit6))\n",
    "\n",
    "print(classification_report(Labels_Test, vyfit6))"
   ]
  }
 ],
 "metadata": {
  "kernelspec": {
   "display_name": "Python 3 (ipykernel)",
   "language": "python",
   "name": "python3"
  },
  "language_info": {
   "codemirror_mode": {
    "name": "ipython",
    "version": 3
   },
   "file_extension": ".py",
   "mimetype": "text/x-python",
   "name": "python",
   "nbconvert_exporter": "python",
   "pygments_lexer": "ipython3",
   "version": "3.9.15"
  }
 },
 "nbformat": 4,
 "nbformat_minor": 5
}
